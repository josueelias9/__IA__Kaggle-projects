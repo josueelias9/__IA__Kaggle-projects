{
 "cells": [
  {
   "cell_type": "code",
   "execution_count": 1,
   "id": "2b74829c",
   "metadata": {
    "execution": {
     "iopub.execute_input": "2024-03-14T20:47:18.036446Z",
     "iopub.status.busy": "2024-03-14T20:47:18.035855Z",
     "iopub.status.idle": "2024-03-14T20:47:18.045864Z",
     "shell.execute_reply": "2024-03-14T20:47:18.045171Z"
    },
    "papermill": {
     "duration": 0.024073,
     "end_time": "2024-03-14T20:47:18.047606",
     "exception": false,
     "start_time": "2024-03-14T20:47:18.023533",
     "status": "completed"
    },
    "tags": []
   },
   "outputs": [],
   "source": [
    "install_libraries = False # default: True\n",
    "graphs_on =  False        # default: True\n",
    "find_best_model = False   # default: True\n",
    "wraper_method = False     # default: True"
   ]
  },
  {
   "cell_type": "markdown",
   "id": "0d745548",
   "metadata": {
    "_kg_hide-input": true,
    "_kg_hide-output": true,
    "papermill": {
     "duration": 0.011119,
     "end_time": "2024-03-14T20:47:18.069675",
     "exception": false,
     "start_time": "2024-03-14T20:47:18.058556",
     "status": "completed"
    },
    "tags": []
   },
   "source": [
    "## Index\n",
    "* [EDA](#EDA)\n",
    "  * [General Exploration](#General-Exploration)\n",
    "  * [Numerical Features](#Numerical-Features)\n",
    "    * [Looking for Outliers](#Looking-for-Outliers)\n",
    "  * [Categorial Features](#Categorial-Features)\n",
    "  * [Conclusions](#Conclusions)\n",
    "* [Transforming and Cleaning the Data](#Transforming-and-Cleaning-the-Data)\n",
    "  * [Correcting Grammar Errors](#Correcting-Grammar-Errors)\n",
    "  * [Removing Outliers](#Removing-Outliers)\n",
    "  * [Transforming Categorical Data](#Transforming-Categorical-Data)\n",
    "  * [Balancing the Data](#Balancing-the-Data)\n",
    "  * [Select Relevant Features](#Select-Relevant-Features)\n",
    "* [Training Model](#Training-Model)\n",
    "  * [Logistic Regression](#Logistic-Regression)\n",
    "  * [Random Forest Classifier](#Random-Forest-Classifier)\n",
    "  * [Gradient Boosting Classifier](#Gradient-Boosting-Classifier)\n",
    "* [Submitting Results](#Submitting-Results)"
   ]
  },
  {
   "cell_type": "markdown",
   "id": "3dbf4979",
   "metadata": {
    "_kg_hide-input": true,
    "_kg_hide-output": true,
    "papermill": {
     "duration": 0.010484,
     "end_time": "2024-03-14T20:47:18.090978",
     "exception": false,
     "start_time": "2024-03-14T20:47:18.080494",
     "status": "completed"
    },
    "tags": []
   },
   "source": [
    "# EDA\n",
    "## General Exploration\n",
    "[Index](#Index)\n",
    "\n",
    "Start by giving a general look at the features. Let's see if there is some relevant information.\n",
    "\n",
    "[`profiling`](https://docs.profiling.ydata.ai/latest/getting-started/installation/)"
   ]
  },
  {
   "cell_type": "code",
   "execution_count": 2,
   "id": "61732fbf",
   "metadata": {
    "_kg_hide-input": true,
    "_kg_hide-output": true,
    "execution": {
     "iopub.execute_input": "2024-03-14T20:47:18.114844Z",
     "iopub.status.busy": "2024-03-14T20:47:18.114210Z",
     "iopub.status.idle": "2024-03-14T20:47:18.119389Z",
     "shell.execute_reply": "2024-03-14T20:47:18.118454Z"
    },
    "papermill": {
     "duration": 0.019381,
     "end_time": "2024-03-14T20:47:18.121220",
     "exception": false,
     "start_time": "2024-03-14T20:47:18.101839",
     "status": "completed"
    },
    "tags": []
   },
   "outputs": [],
   "source": [
    "import sys\n",
    "\n",
    "if install_libraries:\n",
    "    !{sys.executable} -m pip install -U ydata-profiling[notebook]\n",
    "    !jupyter nbextension enable --py widgetsnbextension"
   ]
  },
  {
   "cell_type": "code",
   "execution_count": 3,
   "id": "7f4a0f12",
   "metadata": {
    "_kg_hide-input": true,
    "_kg_hide-output": true,
    "execution": {
     "iopub.execute_input": "2024-03-14T20:47:18.143712Z",
     "iopub.status.busy": "2024-03-14T20:47:18.143481Z",
     "iopub.status.idle": "2024-03-14T20:47:26.144385Z",
     "shell.execute_reply": "2024-03-14T20:47:26.143534Z"
    },
    "papermill": {
     "duration": 8.014891,
     "end_time": "2024-03-14T20:47:26.146818",
     "exception": false,
     "start_time": "2024-03-14T20:47:18.131927",
     "status": "completed"
    },
    "tags": []
   },
   "outputs": [],
   "source": [
    "import numpy as np\n",
    "import pandas as pd\n",
    "from ydata_profiling import ProfileReport\n",
    "\n",
    "df = pd.read_csv('/kaggle/input/arm-proceso-de-evaluacin-ds/base_train.csv')\n",
    "\n",
    "if graphs_on:\n",
    "    profile = ProfileReport(df, title=\"Pandas Profiling Report\")\n",
    "    profile.to_notebook_iframe()"
   ]
  },
  {
   "cell_type": "code",
   "execution_count": 4,
   "id": "483bded2",
   "metadata": {
    "execution": {
     "iopub.execute_input": "2024-03-14T20:47:26.170244Z",
     "iopub.status.busy": "2024-03-14T20:47:26.169905Z",
     "iopub.status.idle": "2024-03-14T20:47:26.180137Z",
     "shell.execute_reply": "2024-03-14T20:47:26.179119Z"
    },
    "papermill": {
     "duration": 0.024212,
     "end_time": "2024-03-14T20:47:26.182231",
     "exception": false,
     "start_time": "2024-03-14T20:47:26.158019",
     "status": "completed"
    },
    "tags": []
   },
   "outputs": [
    {
     "name": "stdout",
     "output_type": "stream",
     "text": [
      "categorical list:  ['TRABAJO', 'ESTADO_CIVIL', 'EDUCACION', 'INCUMPLIMIENTO', 'VIVIENDA', 'PRESTAMO', 'TIPO_CONTACTO', 'MES', 'RESULT_PREVIO']\n",
      "numerical list:  ['ID', 'EDAD', 'CAMPANA', 'NRO_DIAS_CONTACTO', 'CONTACTOS_PREVIOS', 'TASA_VAR_EMP', 'IPC', 'ICC', 'INGRESO', 'MONTO_DEUDA', 'MONTO_TRANSAC', 'ACEPTACION']\n"
     ]
    }
   ],
   "source": [
    "categorical_list = df.select_dtypes(include=['object']).columns.to_list()\n",
    "numerical_list = df.select_dtypes(exclude=['object']).columns.to_list()\n",
    "\n",
    "print(\"categorical list: \",categorical_list)\n",
    "print(\"numerical list: \", numerical_list)"
   ]
  },
  {
   "cell_type": "code",
   "execution_count": 5,
   "id": "04c82d43",
   "metadata": {
    "execution": {
     "iopub.execute_input": "2024-03-14T20:47:26.205975Z",
     "iopub.status.busy": "2024-03-14T20:47:26.205698Z",
     "iopub.status.idle": "2024-03-14T20:47:26.209880Z",
     "shell.execute_reply": "2024-03-14T20:47:26.209048Z"
    },
    "papermill": {
     "duration": 0.01797,
     "end_time": "2024-03-14T20:47:26.211946",
     "exception": false,
     "start_time": "2024-03-14T20:47:26.193976",
     "status": "completed"
    },
    "tags": []
   },
   "outputs": [],
   "source": [
    "import seaborn as sns\n",
    "if graphs_on:\n",
    "    sns.set_theme(style=\"ticks\")\n",
    "    sns.pairplot(df[numerical_list],hue=\"ACEPTACION\")"
   ]
  },
  {
   "cell_type": "markdown",
   "id": "8ab6b966",
   "metadata": {
    "papermill": {
     "duration": 0.010622,
     "end_time": "2024-03-14T20:47:26.233499",
     "exception": false,
     "start_time": "2024-03-14T20:47:26.222877",
     "status": "completed"
    },
    "tags": []
   },
   "source": [
    "## Numerical Features\n",
    "[Index](#Index)\n",
    "\n",
    "In this part we take a look at the numerical data. The idea here is to see the distribution of the features and see if some important information can be extracted.\n",
    "\n",
    "[`seaborn.displot`](https://seaborn.pydata.org/generated/seaborn.displot.html#seaborn.displot) \n",
    "[`subplots`](https://matplotlib.org/stable/api/_as_gen/matplotlib.pyplot.subplots.html)"
   ]
  },
  {
   "cell_type": "code",
   "execution_count": 6,
   "id": "912ef4a6",
   "metadata": {
    "execution": {
     "iopub.execute_input": "2024-03-14T20:47:26.258169Z",
     "iopub.status.busy": "2024-03-14T20:47:26.257898Z",
     "iopub.status.idle": "2024-03-14T20:47:26.264195Z",
     "shell.execute_reply": "2024-03-14T20:47:26.263369Z"
    },
    "papermill": {
     "duration": 0.02111,
     "end_time": "2024-03-14T20:47:26.266104",
     "exception": false,
     "start_time": "2024-03-14T20:47:26.244994",
     "status": "completed"
    },
    "tags": []
   },
   "outputs": [],
   "source": [
    "import matplotlib.pyplot as plt\n",
    "\n",
    "if graphs_on:\n",
    "    fig, axes = plt.subplots(nrows=4, ncols=3, figsize=(20, 20))\n",
    "\n",
    "    for ax, variable in zip(axes.flatten(), numerical_list):\n",
    "        sns.kdeplot(data=df, x=variable,ax=ax,  hue=\"ACEPTACION\")\n",
    "        ax.tick_params(axis='x', rotation=45)\n",
    "\n",
    "    fig.subplots_adjust(hspace=.5)"
   ]
  },
  {
   "cell_type": "markdown",
   "id": "32a5e518",
   "metadata": {
    "papermill": {
     "duration": 0.010717,
     "end_time": "2024-03-14T20:47:26.287825",
     "exception": false,
     "start_time": "2024-03-14T20:47:26.277108",
     "status": "completed"
    },
    "tags": []
   },
   "source": [
    "### Looking for Outliers\n",
    "[Index](#Index)\n",
    "\n",
    "Here we search for outliers in the numerical features. After the analysis it is clear that there are outliers. The features that have outliers are `EDAD`, `CAMPANA`, `ICC`, and `INGRESO`\n",
    "\n",
    "[`Outlier`](https://en.wikipedia.org/wiki/Outlier)\n",
    "[`subplots`](https://matplotlib.org/stable/api/_as_gen/matplotlib.pyplot.subplots.html)\n",
    "[`histplot`](https://seaborn.pydata.org/generated/seaborn.histplot.html)"
   ]
  },
  {
   "cell_type": "code",
   "execution_count": 7,
   "id": "fdc59c5e",
   "metadata": {
    "execution": {
     "iopub.execute_input": "2024-03-14T20:47:26.310713Z",
     "iopub.status.busy": "2024-03-14T20:47:26.310474Z",
     "iopub.status.idle": "2024-03-14T20:47:26.315645Z",
     "shell.execute_reply": "2024-03-14T20:47:26.314796Z"
    },
    "papermill": {
     "duration": 0.018576,
     "end_time": "2024-03-14T20:47:26.317496",
     "exception": false,
     "start_time": "2024-03-14T20:47:26.298920",
     "status": "completed"
    },
    "tags": []
   },
   "outputs": [],
   "source": [
    "if graphs_on:\n",
    "    fig, axes = plt.subplots(nrows=3, ncols=4, figsize=(15, 7))\n",
    "\n",
    "    for ax, variable in zip(axes.flatten(), numerical_list):\n",
    "        sns.boxplot(x=df[variable], ax=ax)\n",
    "        ax.tick_params(axis='x', rotation=45)\n",
    "\n",
    "    fig.subplots_adjust(hspace=1)"
   ]
  },
  {
   "cell_type": "markdown",
   "id": "ef91bf7d",
   "metadata": {
    "papermill": {
     "duration": 0.010705,
     "end_time": "2024-03-14T20:47:26.339074",
     "exception": false,
     "start_time": "2024-03-14T20:47:26.328369",
     "status": "completed"
    },
    "tags": []
   },
   "source": [
    "## Categorial Features\n",
    "[Index](#Index)\n",
    "\n",
    "[`subplots`](https://matplotlib.org/stable/api/_as_gen/matplotlib.pyplot.subplots.html)\n",
    "[`histplot`](https://seaborn.pydata.org/generated/seaborn.histplot.html)"
   ]
  },
  {
   "cell_type": "code",
   "execution_count": 8,
   "id": "08ac252e",
   "metadata": {
    "execution": {
     "iopub.execute_input": "2024-03-14T20:47:26.362179Z",
     "iopub.status.busy": "2024-03-14T20:47:26.361647Z",
     "iopub.status.idle": "2024-03-14T20:47:26.367003Z",
     "shell.execute_reply": "2024-03-14T20:47:26.366158Z"
    },
    "papermill": {
     "duration": 0.018616,
     "end_time": "2024-03-14T20:47:26.368770",
     "exception": false,
     "start_time": "2024-03-14T20:47:26.350154",
     "status": "completed"
    },
    "tags": []
   },
   "outputs": [],
   "source": [
    "if graphs_on:\n",
    "    fig, axes = plt.subplots(nrows=3, ncols=3, figsize=(20, 15))\n",
    "\n",
    "    for ax, variable in zip(axes.flatten(), categorical_list):\n",
    "        sns.histplot(data=df, x=variable, ax=ax,  hue=\"ACEPTACION\", multiple=\"stack\")\n",
    "        ax.tick_params(axis='x', rotation=45)\n",
    "\n",
    "    fig.subplots_adjust(hspace=.7)"
   ]
  },
  {
   "cell_type": "code",
   "execution_count": 9,
   "id": "80c184c8",
   "metadata": {
    "execution": {
     "iopub.execute_input": "2024-03-14T20:47:26.391169Z",
     "iopub.status.busy": "2024-03-14T20:47:26.390886Z",
     "iopub.status.idle": "2024-03-14T20:47:26.395200Z",
     "shell.execute_reply": "2024-03-14T20:47:26.394461Z"
    },
    "papermill": {
     "duration": 0.01779,
     "end_time": "2024-03-14T20:47:26.397311",
     "exception": false,
     "start_time": "2024-03-14T20:47:26.379521",
     "status": "completed"
    },
    "tags": []
   },
   "outputs": [
    {
     "name": "stdout",
     "output_type": "stream",
     "text": [
      "for every '1', there are 7.907187323146576 '0'.\n"
     ]
    }
   ],
   "source": [
    "zeros = 27944 \n",
    "ones = 3534\n",
    "\n",
    "print(\"for every '1', there are\",zeros/ones,\"'0'.\")"
   ]
  },
  {
   "cell_type": "code",
   "execution_count": 10,
   "id": "ca52cec9",
   "metadata": {
    "execution": {
     "iopub.execute_input": "2024-03-14T20:47:26.419986Z",
     "iopub.status.busy": "2024-03-14T20:47:26.419721Z",
     "iopub.status.idle": "2024-03-14T20:47:26.444768Z",
     "shell.execute_reply": "2024-03-14T20:47:26.443934Z"
    },
    "papermill": {
     "duration": 0.038985,
     "end_time": "2024-03-14T20:47:26.447056",
     "exception": false,
     "start_time": "2024-03-14T20:47:26.408071",
     "status": "completed"
    },
    "tags": []
   },
   "outputs": [
    {
     "name": "stdout",
     "output_type": "stream",
     "text": [
      "\"married\"\n",
      "\"single\"\n",
      "\"divorced\"\n",
      "\" married\"\n",
      "\"unknown\"\n",
      "\"singgle \"\n",
      "\"marrid\"\n",
      "\"divorced \"\n",
      "\"single \"\n",
      "\"d_ivorced\"\n",
      "\n",
      "\"university.degree\"\n",
      "\"high.school\"\n",
      "\"basic.9y\"\n",
      "\"professional.course\"\n",
      "\"basic.4y\"\n",
      "\"basic.6y\"\n",
      "\"unknown\"\n",
      "\"illiterate\"\n"
     ]
    }
   ],
   "source": [
    "for i in df[\"ESTADO_CIVIL\"].value_counts().keys():\n",
    "    print(f\"\\\"{i}\\\"\")\n",
    "    \n",
    "print()\n",
    "\n",
    "for i in df[\"EDUCACION\"].value_counts().keys():\n",
    "    print(f\"\\\"{i}\\\"\")"
   ]
  },
  {
   "cell_type": "markdown",
   "id": "449adc12",
   "metadata": {
    "_kg_hide-input": true,
    "_kg_hide-output": true,
    "papermill": {
     "duration": 0.010649,
     "end_time": "2024-03-14T20:47:26.469476",
     "exception": false,
     "start_time": "2024-03-14T20:47:26.458827",
     "status": "completed"
    },
    "tags": []
   },
   "source": [
    "## Conclusions\n",
    "[Index](#Index)\n",
    "* There are people who are over 120 years old. It should not be posible and should be removed.\n",
    "* There are 9 categorical columns (`TRABAJO`, `ESTADO_CIVIL`, `EDUCACION`, `INCUMPLIMIENTO`, `VIVIENDA`, `PRESTAMO`, `TIPO_CONTACTO`, `MES`, `RESULT_PREVIO`)\n",
    "* There are 12 numerical columns (`ID`, `EDAD`, `CAMPANA`, `NRO_DIAS_CONTACTO`, `CONTACTOS_PREVIOS`, `TASA_VAR_EMP`, `IPC`, `ICC`, `INGRESO`, `MONTO_DEUDA`, `MONTO_TRANSAC`, `ACEPTACION`)\n",
    "* the target value is `ACEPTACION`\n",
    "* Exploring the numerical features, we found outliers (`EDAD`, `CAMPANA`, `ICC`, and `INGRESO`)\n",
    "* The feature `ACEPTACION` is umbalanced. For every `1`, there are 7.91 `0`.\n",
    "* `ESTADO_CIVIL` has labels that need to be fixed: \n",
    "    * \"married\" \"marrid\" \" married\"\n",
    "    * \"single\" \"singgle \" \"single \"\n",
    "    * \"divorced\" \"divorced \" \"d_ivorced\"\n",
    "\n",
    "# Transforming and Cleaning the Data\n",
    "[Index](#Index)\n",
    "\n",
    "To organize the data, we will separate de dataframe in categorical and numerical (`categorical_df` and `numerical_df`)."
   ]
  },
  {
   "cell_type": "code",
   "execution_count": 11,
   "id": "a7336c5a",
   "metadata": {
    "execution": {
     "iopub.execute_input": "2024-03-14T20:47:26.492291Z",
     "iopub.status.busy": "2024-03-14T20:47:26.491995Z",
     "iopub.status.idle": "2024-03-14T20:47:26.522043Z",
     "shell.execute_reply": "2024-03-14T20:47:26.521157Z"
    },
    "papermill": {
     "duration": 0.043885,
     "end_time": "2024-03-14T20:47:26.524262",
     "exception": false,
     "start_time": "2024-03-14T20:47:26.480377",
     "status": "completed"
    },
    "tags": []
   },
   "outputs": [
    {
     "data": {
      "text/html": [
       "<div>\n",
       "<style scoped>\n",
       "    .dataframe tbody tr th:only-of-type {\n",
       "        vertical-align: middle;\n",
       "    }\n",
       "\n",
       "    .dataframe tbody tr th {\n",
       "        vertical-align: top;\n",
       "    }\n",
       "\n",
       "    .dataframe thead th {\n",
       "        text-align: right;\n",
       "    }\n",
       "</style>\n",
       "<table border=\"1\" class=\"dataframe\">\n",
       "  <thead>\n",
       "    <tr style=\"text-align: right;\">\n",
       "      <th></th>\n",
       "      <th>TRABAJO</th>\n",
       "      <th>ESTADO_CIVIL</th>\n",
       "      <th>EDUCACION</th>\n",
       "      <th>INCUMPLIMIENTO</th>\n",
       "      <th>VIVIENDA</th>\n",
       "      <th>PRESTAMO</th>\n",
       "      <th>TIPO_CONTACTO</th>\n",
       "      <th>MES</th>\n",
       "      <th>RESULT_PREVIO</th>\n",
       "    </tr>\n",
       "  </thead>\n",
       "  <tbody>\n",
       "    <tr>\n",
       "      <th>0</th>\n",
       "      <td>self-employed</td>\n",
       "      <td>single</td>\n",
       "      <td>university.degree</td>\n",
       "      <td>no</td>\n",
       "      <td>no</td>\n",
       "      <td>no</td>\n",
       "      <td>telephone</td>\n",
       "      <td>aug</td>\n",
       "      <td>nonexistent</td>\n",
       "    </tr>\n",
       "    <tr>\n",
       "      <th>1</th>\n",
       "      <td>technician</td>\n",
       "      <td>single</td>\n",
       "      <td>professional.course</td>\n",
       "      <td>no</td>\n",
       "      <td>no</td>\n",
       "      <td>no</td>\n",
       "      <td>telephone</td>\n",
       "      <td>aug</td>\n",
       "      <td>nonexistent</td>\n",
       "    </tr>\n",
       "  </tbody>\n",
       "</table>\n",
       "</div>"
      ],
      "text/plain": [
       "         TRABAJO ESTADO_CIVIL            EDUCACION INCUMPLIMIENTO VIVIENDA  \\\n",
       "0  self-employed       single    university.degree             no       no   \n",
       "1     technician       single  professional.course             no       no   \n",
       "\n",
       "  PRESTAMO TIPO_CONTACTO  MES RESULT_PREVIO  \n",
       "0       no     telephone  aug   nonexistent  \n",
       "1       no     telephone  aug   nonexistent  "
      ]
     },
     "metadata": {},
     "output_type": "display_data"
    },
    {
     "data": {
      "text/html": [
       "<div>\n",
       "<style scoped>\n",
       "    .dataframe tbody tr th:only-of-type {\n",
       "        vertical-align: middle;\n",
       "    }\n",
       "\n",
       "    .dataframe tbody tr th {\n",
       "        vertical-align: top;\n",
       "    }\n",
       "\n",
       "    .dataframe thead th {\n",
       "        text-align: right;\n",
       "    }\n",
       "</style>\n",
       "<table border=\"1\" class=\"dataframe\">\n",
       "  <thead>\n",
       "    <tr style=\"text-align: right;\">\n",
       "      <th></th>\n",
       "      <th>ID</th>\n",
       "      <th>EDAD</th>\n",
       "      <th>CAMPANA</th>\n",
       "      <th>NRO_DIAS_CONTACTO</th>\n",
       "      <th>CONTACTOS_PREVIOS</th>\n",
       "      <th>TASA_VAR_EMP</th>\n",
       "      <th>IPC</th>\n",
       "      <th>ICC</th>\n",
       "      <th>INGRESO</th>\n",
       "      <th>MONTO_DEUDA</th>\n",
       "      <th>MONTO_TRANSAC</th>\n",
       "      <th>ACEPTACION</th>\n",
       "    </tr>\n",
       "  </thead>\n",
       "  <tbody>\n",
       "    <tr>\n",
       "      <th>0</th>\n",
       "      <td>24004</td>\n",
       "      <td>27</td>\n",
       "      <td>1</td>\n",
       "      <td>999</td>\n",
       "      <td>0</td>\n",
       "      <td>-0.1</td>\n",
       "      <td>93.798</td>\n",
       "      <td>-40.4</td>\n",
       "      <td>1285.0</td>\n",
       "      <td>24260.77053</td>\n",
       "      <td>5242.101608</td>\n",
       "      <td>0</td>\n",
       "    </tr>\n",
       "    <tr>\n",
       "      <th>1</th>\n",
       "      <td>24003</td>\n",
       "      <td>43</td>\n",
       "      <td>1</td>\n",
       "      <td>999</td>\n",
       "      <td>0</td>\n",
       "      <td>-0.1</td>\n",
       "      <td>93.798</td>\n",
       "      <td>-40.4</td>\n",
       "      <td>1287.0</td>\n",
       "      <td>28980.09457</td>\n",
       "      <td>5538.942316</td>\n",
       "      <td>0</td>\n",
       "    </tr>\n",
       "  </tbody>\n",
       "</table>\n",
       "</div>"
      ],
      "text/plain": [
       "      ID  EDAD  CAMPANA  NRO_DIAS_CONTACTO  CONTACTOS_PREVIOS  TASA_VAR_EMP  \\\n",
       "0  24004    27        1                999                  0          -0.1   \n",
       "1  24003    43        1                999                  0          -0.1   \n",
       "\n",
       "      IPC   ICC  INGRESO  MONTO_DEUDA  MONTO_TRANSAC  ACEPTACION  \n",
       "0  93.798 -40.4   1285.0  24260.77053    5242.101608           0  \n",
       "1  93.798 -40.4   1287.0  28980.09457    5538.942316           0  "
      ]
     },
     "metadata": {},
     "output_type": "display_data"
    }
   ],
   "source": [
    "categorical_df = df.select_dtypes(include=['object'])\n",
    "numerical_df = df.select_dtypes(exclude=['object'])\n",
    "\n",
    "display(categorical_df.head(2))\n",
    "display(numerical_df.head(2))"
   ]
  },
  {
   "cell_type": "markdown",
   "id": "70738477",
   "metadata": {
    "papermill": {
     "duration": 0.01108,
     "end_time": "2024-03-14T20:47:26.547461",
     "exception": false,
     "start_time": "2024-03-14T20:47:26.536381",
     "status": "completed"
    },
    "tags": []
   },
   "source": [
    "## Correcting Grammar Errors\n",
    "[Index](#Index)"
   ]
  },
  {
   "cell_type": "code",
   "execution_count": 12,
   "id": "4987d8aa",
   "metadata": {
    "execution": {
     "iopub.execute_input": "2024-03-14T20:47:26.571556Z",
     "iopub.status.busy": "2024-03-14T20:47:26.571014Z",
     "iopub.status.idle": "2024-03-14T20:47:26.626417Z",
     "shell.execute_reply": "2024-03-14T20:47:26.625609Z"
    },
    "papermill": {
     "duration": 0.069432,
     "end_time": "2024-03-14T20:47:26.628292",
     "exception": false,
     "start_time": "2024-03-14T20:47:26.558860",
     "status": "completed"
    },
    "tags": []
   },
   "outputs": [
    {
     "data": {
      "text/plain": [
       "ESTADO_CIVIL\n",
       "married     19111\n",
       "single       8797\n",
       "divorced     3508\n",
       "unknown        62\n",
       "Name: count, dtype: int64"
      ]
     },
     "metadata": {},
     "output_type": "display_data"
    },
    {
     "name": "stdout",
     "output_type": "stream",
     "text": [
      "\n"
     ]
    },
    {
     "data": {
      "text/plain": [
       "EDUCACION\n",
       "basic                  9617\n",
       "university.degree      9266\n",
       "high.school            7228\n",
       "professional.course    4035\n",
       "unknown                1315\n",
       "illiterate               17\n",
       "Name: count, dtype: int64"
      ]
     },
     "metadata": {},
     "output_type": "display_data"
    }
   ],
   "source": [
    "def solve_grammar_issues(label):\n",
    "    if label == \"marrid\" or label ==\" married\":\n",
    "        return \"married\"\n",
    "    if label == \"singgle \" or label ==\"single \":\n",
    "        return \"single\"\n",
    "    if label == \"divorced \" or label ==\"d_ivorced\":\n",
    "        return \"divorced\"\n",
    "    if label == \"basic.4y\" or label == \"basic.6y\" or label == \"basic.9y\":\n",
    "        return \"basic\"\n",
    "    else:\n",
    "        return label\n",
    "\n",
    "    \n",
    "categorical_df[\"ESTADO_CIVIL\"] = categorical_df[\"ESTADO_CIVIL\"].apply(solve_grammar_issues)\n",
    "categorical_df[\"EDUCACION\"] = categorical_df[\"EDUCACION\"].apply(solve_grammar_issues)\n",
    "\n",
    "display(categorical_df[\"ESTADO_CIVIL\"].value_counts())\n",
    "print()\n",
    "display(categorical_df[\"EDUCACION\"].value_counts())"
   ]
  },
  {
   "cell_type": "markdown",
   "id": "6351aaa6",
   "metadata": {
    "papermill": {
     "duration": 0.011931,
     "end_time": "2024-03-14T20:47:26.651759",
     "exception": false,
     "start_time": "2024-03-14T20:47:26.639828",
     "status": "completed"
    },
    "tags": []
   },
   "source": [
    "## Removing Outliers\n",
    "[Index](#Index)\n",
    "\n",
    "In this part we will remove all outliers. After that, we will check all boxplots and see if the outliers were removed. All changes will be applied to the `numerical_df`"
   ]
  },
  {
   "cell_type": "code",
   "execution_count": 13,
   "id": "df25ed23",
   "metadata": {
    "execution": {
     "iopub.execute_input": "2024-03-14T20:47:26.676681Z",
     "iopub.status.busy": "2024-03-14T20:47:26.676137Z",
     "iopub.status.idle": "2024-03-14T20:47:26.859397Z",
     "shell.execute_reply": "2024-03-14T20:47:26.858506Z"
    },
    "papermill": {
     "duration": 0.197572,
     "end_time": "2024-03-14T20:47:26.861317",
     "exception": false,
     "start_time": "2024-03-14T20:47:26.663745",
     "status": "completed"
    },
    "tags": []
   },
   "outputs": [
    {
     "name": "stdout",
     "output_type": "stream",
     "text": [
      "There is no need of removing outliers in this feature: NRO_DIAS_CONTACTO\n",
      "There is no need of removing outliers in this feature: CONTACTOS_PREVIOS\n",
      "Do not apply outlier to the target feature: ACEPTACION\n"
     ]
    }
   ],
   "source": [
    "# function that receives a series type, remove outlier and returns the modified series.\n",
    "def removeOutliers(ser):\n",
    "    Q1=ser.quantile(.25)\n",
    "    Q3=ser.quantile(.75)\n",
    "    IQR=Q3-Q1\n",
    "    lower = float(Q1-IQR*1.5)\n",
    "    upper = float(Q3+IQR*1.5)\n",
    "\n",
    "    def modify_value(value):\n",
    "        if(value<lower):\n",
    "            return float(lower)\n",
    "        elif(upper<value):\n",
    "            return float(upper)\n",
    "        else:\n",
    "            return float(value)\n",
    "\n",
    "    return ser.apply(modify_value)\n",
    "\n",
    "# apply outliers\n",
    "for i in numerical_df.columns:\n",
    "    if i == \"ACEPTACION\":\n",
    "        print(\"Do not apply outlier to the target feature:\",i)\n",
    "    elif i ==\"CONTACTOS_PREVIOS\" or i==\"NRO_DIAS_CONTACTO\":\n",
    "        print(\"There is no need of removing outliers in this feature:\",i)\n",
    "    else:\n",
    "        numerical_df[i] = removeOutliers(numerical_df[i])\n",
    "        \n",
    "# plot boxes and see if the data changed after removing outliers\n",
    "if graphs_on:\n",
    "    fig, axes = plt.subplots(nrows=3, ncols=4, figsize=(15, 7))\n",
    "\n",
    "    for ax, variable in zip(axes.flatten(), numerical_df.columns):\n",
    "        sns.boxplot(x=numerical_df[variable], ax=ax)\n",
    "        ax.tick_params(axis='x', rotation=45)\n",
    "\n",
    "    fig.subplots_adjust(hspace=1)"
   ]
  },
  {
   "cell_type": "markdown",
   "id": "87db42aa",
   "metadata": {
    "papermill": {
     "duration": 0.0116,
     "end_time": "2024-03-14T20:47:26.885016",
     "exception": false,
     "start_time": "2024-03-14T20:47:26.873416",
     "status": "completed"
    },
    "tags": []
   },
   "source": [
    "## Transforming Categorical Data\n",
    "[Index](#Index)\n",
    "\n",
    "Now, lets convert the categorical data into numerical data. This step is important since the model receives only numbers as input and not text. The function that perform this task is `transform_categorical_values`. After that we use the function `join_dataframes` to join both, `numerical_df` and `categorical_df` dataframes.\n",
    "\n",
    "\n",
    "[`get_dummies`](https://pandas.pydata.org/docs/reference/api/pandas.get_dummies.html)"
   ]
  },
  {
   "cell_type": "code",
   "execution_count": 14,
   "id": "2711a5cc",
   "metadata": {
    "_kg_hide-input": true,
    "_kg_hide-output": true,
    "execution": {
     "iopub.execute_input": "2024-03-14T20:47:26.909828Z",
     "iopub.status.busy": "2024-03-14T20:47:26.909589Z",
     "iopub.status.idle": "2024-03-14T20:47:26.996558Z",
     "shell.execute_reply": "2024-03-14T20:47:26.995690Z"
    },
    "papermill": {
     "duration": 0.101759,
     "end_time": "2024-03-14T20:47:26.998691",
     "exception": false,
     "start_time": "2024-03-14T20:47:26.896932",
     "status": "completed"
    },
    "tags": []
   },
   "outputs": [
    {
     "data": {
      "text/html": [
       "<div>\n",
       "<style scoped>\n",
       "    .dataframe tbody tr th:only-of-type {\n",
       "        vertical-align: middle;\n",
       "    }\n",
       "\n",
       "    .dataframe tbody tr th {\n",
       "        vertical-align: top;\n",
       "    }\n",
       "\n",
       "    .dataframe thead th {\n",
       "        text-align: right;\n",
       "    }\n",
       "</style>\n",
       "<table border=\"1\" class=\"dataframe\">\n",
       "  <thead>\n",
       "    <tr style=\"text-align: right;\">\n",
       "      <th></th>\n",
       "      <th>TRABAJO_blue-collar</th>\n",
       "      <th>TRABAJO_entrepreneur</th>\n",
       "      <th>TRABAJO_housemaid</th>\n",
       "      <th>TRABAJO_management</th>\n",
       "      <th>TRABAJO_retired</th>\n",
       "      <th>TRABAJO_self-employed</th>\n",
       "      <th>TRABAJO_services</th>\n",
       "      <th>TRABAJO_student</th>\n",
       "      <th>TRABAJO_technician</th>\n",
       "      <th>TRABAJO_unemployed</th>\n",
       "      <th>...</th>\n",
       "      <th>MES_dec</th>\n",
       "      <th>MES_jul</th>\n",
       "      <th>MES_jun</th>\n",
       "      <th>MES_mar</th>\n",
       "      <th>MES_may</th>\n",
       "      <th>MES_nov</th>\n",
       "      <th>MES_oct</th>\n",
       "      <th>MES_sep</th>\n",
       "      <th>RESULT_PREVIO_nonexistent</th>\n",
       "      <th>RESULT_PREVIO_success</th>\n",
       "    </tr>\n",
       "  </thead>\n",
       "  <tbody>\n",
       "    <tr>\n",
       "      <th>0</th>\n",
       "      <td>0.0</td>\n",
       "      <td>0.0</td>\n",
       "      <td>0.0</td>\n",
       "      <td>0.0</td>\n",
       "      <td>0.0</td>\n",
       "      <td>1.0</td>\n",
       "      <td>0.0</td>\n",
       "      <td>0.0</td>\n",
       "      <td>0.0</td>\n",
       "      <td>0.0</td>\n",
       "      <td>...</td>\n",
       "      <td>0.0</td>\n",
       "      <td>0.0</td>\n",
       "      <td>0.0</td>\n",
       "      <td>0.0</td>\n",
       "      <td>0.0</td>\n",
       "      <td>0.0</td>\n",
       "      <td>0.0</td>\n",
       "      <td>0.0</td>\n",
       "      <td>1.0</td>\n",
       "      <td>0.0</td>\n",
       "    </tr>\n",
       "    <tr>\n",
       "      <th>1</th>\n",
       "      <td>0.0</td>\n",
       "      <td>0.0</td>\n",
       "      <td>0.0</td>\n",
       "      <td>0.0</td>\n",
       "      <td>0.0</td>\n",
       "      <td>0.0</td>\n",
       "      <td>0.0</td>\n",
       "      <td>0.0</td>\n",
       "      <td>1.0</td>\n",
       "      <td>0.0</td>\n",
       "      <td>...</td>\n",
       "      <td>0.0</td>\n",
       "      <td>0.0</td>\n",
       "      <td>0.0</td>\n",
       "      <td>0.0</td>\n",
       "      <td>0.0</td>\n",
       "      <td>0.0</td>\n",
       "      <td>0.0</td>\n",
       "      <td>0.0</td>\n",
       "      <td>1.0</td>\n",
       "      <td>0.0</td>\n",
       "    </tr>\n",
       "  </tbody>\n",
       "</table>\n",
       "<p>2 rows × 37 columns</p>\n",
       "</div>"
      ],
      "text/plain": [
       "   TRABAJO_blue-collar  TRABAJO_entrepreneur  TRABAJO_housemaid  \\\n",
       "0                  0.0                   0.0                0.0   \n",
       "1                  0.0                   0.0                0.0   \n",
       "\n",
       "   TRABAJO_management  TRABAJO_retired  TRABAJO_self-employed  \\\n",
       "0                 0.0              0.0                    1.0   \n",
       "1                 0.0              0.0                    0.0   \n",
       "\n",
       "   TRABAJO_services  TRABAJO_student  TRABAJO_technician  TRABAJO_unemployed  \\\n",
       "0               0.0              0.0                 0.0                 0.0   \n",
       "1               0.0              0.0                 1.0                 0.0   \n",
       "\n",
       "   ...  MES_dec  MES_jul  MES_jun  MES_mar  MES_may  MES_nov  MES_oct  \\\n",
       "0  ...      0.0      0.0      0.0      0.0      0.0      0.0      0.0   \n",
       "1  ...      0.0      0.0      0.0      0.0      0.0      0.0      0.0   \n",
       "\n",
       "   MES_sep  RESULT_PREVIO_nonexistent  RESULT_PREVIO_success  \n",
       "0      0.0                        1.0                    0.0  \n",
       "1      0.0                        1.0                    0.0  \n",
       "\n",
       "[2 rows x 37 columns]"
      ]
     },
     "execution_count": 14,
     "metadata": {},
     "output_type": "execute_result"
    }
   ],
   "source": [
    "def transform_categorical_values(categorical_df):    \n",
    "    # convert caterorical to numerical\n",
    "    categorical_df = pd.get_dummies(categorical_df, drop_first=True, dtype=float)\n",
    "    return categorical_df\n",
    "\n",
    "categorical_df = transform_categorical_values(categorical_df)\n",
    "categorical_df.head(2)"
   ]
  },
  {
   "cell_type": "code",
   "execution_count": 15,
   "id": "29c8c003",
   "metadata": {
    "_kg_hide-input": true,
    "_kg_hide-output": true,
    "execution": {
     "iopub.execute_input": "2024-03-14T20:47:27.025537Z",
     "iopub.status.busy": "2024-03-14T20:47:27.024873Z",
     "iopub.status.idle": "2024-03-14T20:47:27.061501Z",
     "shell.execute_reply": "2024-03-14T20:47:27.060449Z"
    },
    "papermill": {
     "duration": 0.051581,
     "end_time": "2024-03-14T20:47:27.063541",
     "exception": false,
     "start_time": "2024-03-14T20:47:27.011960",
     "status": "completed"
    },
    "tags": []
   },
   "outputs": [
    {
     "data": {
      "text/html": [
       "<div>\n",
       "<style scoped>\n",
       "    .dataframe tbody tr th:only-of-type {\n",
       "        vertical-align: middle;\n",
       "    }\n",
       "\n",
       "    .dataframe tbody tr th {\n",
       "        vertical-align: top;\n",
       "    }\n",
       "\n",
       "    .dataframe thead th {\n",
       "        text-align: right;\n",
       "    }\n",
       "</style>\n",
       "<table border=\"1\" class=\"dataframe\">\n",
       "  <thead>\n",
       "    <tr style=\"text-align: right;\">\n",
       "      <th></th>\n",
       "      <th>ID</th>\n",
       "      <th>EDAD</th>\n",
       "      <th>CAMPANA</th>\n",
       "      <th>NRO_DIAS_CONTACTO</th>\n",
       "      <th>CONTACTOS_PREVIOS</th>\n",
       "      <th>TASA_VAR_EMP</th>\n",
       "      <th>IPC</th>\n",
       "      <th>ICC</th>\n",
       "      <th>INGRESO</th>\n",
       "      <th>MONTO_DEUDA</th>\n",
       "      <th>...</th>\n",
       "      <th>MES_dec</th>\n",
       "      <th>MES_jul</th>\n",
       "      <th>MES_jun</th>\n",
       "      <th>MES_mar</th>\n",
       "      <th>MES_may</th>\n",
       "      <th>MES_nov</th>\n",
       "      <th>MES_oct</th>\n",
       "      <th>MES_sep</th>\n",
       "      <th>RESULT_PREVIO_nonexistent</th>\n",
       "      <th>RESULT_PREVIO_success</th>\n",
       "    </tr>\n",
       "  </thead>\n",
       "  <tbody>\n",
       "    <tr>\n",
       "      <th>0</th>\n",
       "      <td>24004.0</td>\n",
       "      <td>27.0</td>\n",
       "      <td>1.0</td>\n",
       "      <td>999</td>\n",
       "      <td>0</td>\n",
       "      <td>-0.1</td>\n",
       "      <td>93.798</td>\n",
       "      <td>-40.4</td>\n",
       "      <td>1285.0</td>\n",
       "      <td>24260.77053</td>\n",
       "      <td>...</td>\n",
       "      <td>0.0</td>\n",
       "      <td>0.0</td>\n",
       "      <td>0.0</td>\n",
       "      <td>0.0</td>\n",
       "      <td>0.0</td>\n",
       "      <td>0.0</td>\n",
       "      <td>0.0</td>\n",
       "      <td>0.0</td>\n",
       "      <td>1.0</td>\n",
       "      <td>0.0</td>\n",
       "    </tr>\n",
       "    <tr>\n",
       "      <th>1</th>\n",
       "      <td>24003.0</td>\n",
       "      <td>43.0</td>\n",
       "      <td>1.0</td>\n",
       "      <td>999</td>\n",
       "      <td>0</td>\n",
       "      <td>-0.1</td>\n",
       "      <td>93.798</td>\n",
       "      <td>-40.4</td>\n",
       "      <td>1287.0</td>\n",
       "      <td>28980.09457</td>\n",
       "      <td>...</td>\n",
       "      <td>0.0</td>\n",
       "      <td>0.0</td>\n",
       "      <td>0.0</td>\n",
       "      <td>0.0</td>\n",
       "      <td>0.0</td>\n",
       "      <td>0.0</td>\n",
       "      <td>0.0</td>\n",
       "      <td>0.0</td>\n",
       "      <td>1.0</td>\n",
       "      <td>0.0</td>\n",
       "    </tr>\n",
       "  </tbody>\n",
       "</table>\n",
       "<p>2 rows × 49 columns</p>\n",
       "</div>"
      ],
      "text/plain": [
       "        ID  EDAD  CAMPANA  NRO_DIAS_CONTACTO  CONTACTOS_PREVIOS  TASA_VAR_EMP  \\\n",
       "0  24004.0  27.0      1.0                999                  0          -0.1   \n",
       "1  24003.0  43.0      1.0                999                  0          -0.1   \n",
       "\n",
       "      IPC   ICC  INGRESO  MONTO_DEUDA  ...  MES_dec  MES_jul  MES_jun  \\\n",
       "0  93.798 -40.4   1285.0  24260.77053  ...      0.0      0.0      0.0   \n",
       "1  93.798 -40.4   1287.0  28980.09457  ...      0.0      0.0      0.0   \n",
       "\n",
       "   MES_mar  MES_may  MES_nov  MES_oct  MES_sep  RESULT_PREVIO_nonexistent  \\\n",
       "0      0.0      0.0      0.0      0.0      0.0                        1.0   \n",
       "1      0.0      0.0      0.0      0.0      0.0                        1.0   \n",
       "\n",
       "   RESULT_PREVIO_success  \n",
       "0                    0.0  \n",
       "1                    0.0  \n",
       "\n",
       "[2 rows x 49 columns]"
      ]
     },
     "execution_count": 15,
     "metadata": {},
     "output_type": "execute_result"
    }
   ],
   "source": [
    "def join_dataframes(numerical_df, categorical_df):\n",
    "    # join caterical df with numerical\n",
    "    transformed_df = pd.concat([numerical_df, categorical_df], axis=1)\n",
    "    return transformed_df\n",
    "\n",
    "converted_df = join_dataframes(numerical_df, categorical_df)\n",
    "converted_df.head(2)"
   ]
  },
  {
   "attachments": {
    "7fd092b8-0a29-4f0e-b925-87ca6cec0e02.png": {
     "image/png": "[encoded data removed]"
    }
   },
   "cell_type": "markdown",
   "id": "3c1e7418",
   "metadata": {
    "papermill": {
     "duration": 0.012453,
     "end_time": "2024-03-14T20:47:27.089029",
     "exception": false,
     "start_time": "2024-03-14T20:47:27.076576",
     "status": "completed"
    },
    "tags": []
   },
   "source": [
    "## Balancing the Data\n",
    "[Index](#Index)\n",
    "\n",
    "In order to balance the data, we will use the *imbalanced-learn* library. We will use the SMOTE method.\n",
    "\n",
    "![image.png](attachment:7fd092b8-0a29-4f0e-b925-87ca6cec0e02.png)\n",
    "\n",
    "[`imbalanced-learn.org/stable/install`](https://imbalanced-learn.org/stable/install.html#getting-started)\n",
    "[`over_sampling.SMOTE`](https://imbalanced-learn.org/stable/references/generated/imblearn.over_sampling.SMOTE.html#)"
   ]
  },
  {
   "cell_type": "code",
   "execution_count": 16,
   "id": "82a33a29",
   "metadata": {
    "execution": {
     "iopub.execute_input": "2024-03-14T20:47:27.115047Z",
     "iopub.status.busy": "2024-03-14T20:47:27.114763Z",
     "iopub.status.idle": "2024-03-14T20:47:27.118948Z",
     "shell.execute_reply": "2024-03-14T20:47:27.118004Z"
    },
    "papermill": {
     "duration": 0.019448,
     "end_time": "2024-03-14T20:47:27.120836",
     "exception": false,
     "start_time": "2024-03-14T20:47:27.101388",
     "status": "completed"
    },
    "tags": []
   },
   "outputs": [],
   "source": [
    "if install_libraries:\n",
    "    !pip install imbalanced-learn"
   ]
  },
  {
   "cell_type": "code",
   "execution_count": 17,
   "id": "59f59774",
   "metadata": {
    "execution": {
     "iopub.execute_input": "2024-03-14T20:47:27.146988Z",
     "iopub.status.busy": "2024-03-14T20:47:27.146741Z",
     "iopub.status.idle": "2024-03-14T20:47:28.398415Z",
     "shell.execute_reply": "2024-03-14T20:47:28.397590Z"
    },
    "papermill": {
     "duration": 1.267104,
     "end_time": "2024-03-14T20:47:28.400637",
     "exception": false,
     "start_time": "2024-03-14T20:47:27.133533",
     "status": "completed"
    },
    "tags": []
   },
   "outputs": [],
   "source": [
    "X = converted_df.drop('ACEPTACION', axis=1)\n",
    "y = converted_df['ACEPTACION']\n",
    "\n",
    "from imblearn.over_sampling import SMOTE\n",
    "smote = SMOTE(random_state=42)\n",
    "X, y = smote.fit_resample(X, y)"
   ]
  },
  {
   "cell_type": "markdown",
   "id": "3482d8ae",
   "metadata": {
    "papermill": {
     "duration": 0.012903,
     "end_time": "2024-03-14T20:47:28.427727",
     "exception": false,
     "start_time": "2024-03-14T20:47:28.414824",
     "status": "completed"
    },
    "tags": []
   },
   "source": [
    "## Select Relevant Features\n",
    "[Index](#Index)\n",
    "\n",
    "In order to select the relevant features, we will use two method:\n",
    "\n",
    "* **filter method (Pearson correlation)**: From the filter method, we the features with the most high correlation number are:\n",
    "    * `ID`\n",
    "    * `TASA_VAR_EMP` \n",
    "    * `INGRESO` \n",
    "    * `ACEPTACION` \n",
    "    \n",
    "We will discard `ID`, `ACEPTACION` \n",
    "* **wrapper method (RFE sklearn)**: from the wrapper method we get\n",
    "    * `ID`\n",
    "    * `CAMPANA` \n",
    "    * `ESTADO_CIVIL_married`\n",
    "    * `EDUCACION_university.degree`\n",
    "    * `VIVIENDA_yes`\n",
    "\n",
    "We will discard `ID`\n",
    "\n",
    "[`RFE`](https://scikit-learn.org/stable/modules/generated/sklearn.feature_selection.RFE.html)\n",
    "[`youtube`](https://www.youtube.com/watch?v=EqLBAmtKMnQ)\n",
    "[`Correlation_feature_selection`](https://en.wikipedia.org/wiki/Feature_selection#Correlation_feature_selection)"
   ]
  },
  {
   "cell_type": "code",
   "execution_count": 18,
   "id": "bc21af06",
   "metadata": {
    "execution": {
     "iopub.execute_input": "2024-03-14T20:47:28.454495Z",
     "iopub.status.busy": "2024-03-14T20:47:28.454014Z",
     "iopub.status.idle": "2024-03-14T20:47:28.808122Z",
     "shell.execute_reply": "2024-03-14T20:47:28.807248Z"
    },
    "papermill": {
     "duration": 0.369919,
     "end_time": "2024-03-14T20:47:28.810326",
     "exception": false,
     "start_time": "2024-03-14T20:47:28.440407",
     "status": "completed"
    },
    "tags": []
   },
   "outputs": [
    {
     "data": {
      "text/plain": [
       "ID              0.447742\n",
       "TASA_VAR_EMP   -0.438500\n",
       "INGRESO         0.476133\n",
       "ACEPTACION      1.000000\n",
       "Name: ACEPTACION, dtype: float64"
      ]
     },
     "execution_count": 18,
     "metadata": {},
     "output_type": "execute_result"
    }
   ],
   "source": [
    "correlation_serie = join_dataframes(X,pd.DataFrame(y)).corr()[\"ACEPTACION\"]\n",
    "threshold = 0.4\n",
    "correlation_serie[(correlation_serie<=-threshold) | (threshold<=correlation_serie)]"
   ]
  },
  {
   "cell_type": "code",
   "execution_count": 19,
   "id": "850bf211",
   "metadata": {
    "execution": {
     "iopub.execute_input": "2024-03-14T20:47:28.837339Z",
     "iopub.status.busy": "2024-03-14T20:47:28.836750Z",
     "iopub.status.idle": "2024-03-14T20:47:28.869227Z",
     "shell.execute_reply": "2024-03-14T20:47:28.868400Z"
    },
    "papermill": {
     "duration": 0.047879,
     "end_time": "2024-03-14T20:47:28.871145",
     "exception": false,
     "start_time": "2024-03-14T20:47:28.823266",
     "status": "completed"
    },
    "tags": []
   },
   "outputs": [],
   "source": [
    "from sklearn.feature_selection import RFE\n",
    "from sklearn.ensemble import GradientBoostingClassifier\n",
    "\n",
    "if wraper_method:\n",
    "    estimator = GradientBoostingClassifier()\n",
    "    selector = RFE(estimator, n_features_to_select=5, step=1,verbose=10)\n",
    "    selector = selector.fit(X, y)\n",
    "\n",
    "    for i,j in zip(selector.support_,X.columns):\n",
    "        if i == True:\n",
    "            print(f'\"{j}\",')"
   ]
  },
  {
   "cell_type": "code",
   "execution_count": 20,
   "id": "925339da",
   "metadata": {
    "execution": {
     "iopub.execute_input": "2024-03-14T20:47:28.897299Z",
     "iopub.status.busy": "2024-03-14T20:47:28.897007Z",
     "iopub.status.idle": "2024-03-14T20:47:28.903400Z",
     "shell.execute_reply": "2024-03-14T20:47:28.902488Z"
    },
    "papermill": {
     "duration": 0.021508,
     "end_time": "2024-03-14T20:47:28.905252",
     "exception": false,
     "start_time": "2024-03-14T20:47:28.883744",
     "status": "completed"
    },
    "tags": []
   },
   "outputs": [],
   "source": [
    "X = X[[\n",
    "    \"CAMPANA\",\n",
    "    \"ESTADO_CIVIL_married\",\n",
    "    \"EDUCACION_university.degree\",\n",
    "    \"VIVIENDA_yes\",\n",
    "    \"INGRESO\",\n",
    "    \"TASA_VAR_EMP\"\n",
    "]]"
   ]
  },
  {
   "cell_type": "markdown",
   "id": "ac3d6199",
   "metadata": {
    "_kg_hide-input": true,
    "_kg_hide-output": true,
    "papermill": {
     "duration": 0.012115,
     "end_time": "2024-03-14T20:47:28.929844",
     "exception": false,
     "start_time": "2024-03-14T20:47:28.917729",
     "status": "completed"
    },
    "tags": []
   },
   "source": [
    "# Training Model\n",
    "[Index](#Index)\n",
    "\n",
    "First, we are going to split our original dataframe (`df`, now `X` and `y`) in train and test. The function `finding_best_parameters` returns the model that best performs according to the parameters given to the function. We will try the following models and which one perform the best.\n",
    "* LogisticRegression \n",
    "* RandomForestClassifier\n",
    "* GradientBoostingClassifier\n",
    "\n",
    "[`make_scorer`](https://scikit-learn.org/stable/modules/generated/sklearn.metrics.make_scorer.html)\n",
    "[`roc_auc_score`](https://scikit-learn.org/stable/modules/generated/sklearn.metrics.roc_auc_score.html)\n",
    "[`train_test_split`](https://scikit-learn.org/stable/modules/generated/sklearn.model_selection.train_test_split.html)\n",
    "[`putting_together`](https://scikit-learn.org/stable/tutorial/statistical_inference/putting_together.html)\n",
    "[`GridSearchCV`](https://scikit-learn.org/stable/modules/generated/sklearn.model_selection.GridSearchCV.html)\n"
   ]
  },
  {
   "cell_type": "code",
   "execution_count": 21,
   "id": "e3db4f82",
   "metadata": {
    "_kg_hide-input": true,
    "_kg_hide-output": true,
    "execution": {
     "iopub.execute_input": "2024-03-14T20:47:28.956198Z",
     "iopub.status.busy": "2024-03-14T20:47:28.955913Z",
     "iopub.status.idle": "2024-03-14T20:47:28.967062Z",
     "shell.execute_reply": "2024-03-14T20:47:28.966346Z"
    },
    "papermill": {
     "duration": 0.026617,
     "end_time": "2024-03-14T20:47:28.968954",
     "exception": false,
     "start_time": "2024-03-14T20:47:28.942337",
     "status": "completed"
    },
    "tags": []
   },
   "outputs": [],
   "source": [
    "from sklearn.model_selection import train_test_split\n",
    "X_train, X_test, y_train, y_test = train_test_split(\n",
    "    X, y, test_size=0.2, random_state=42)"
   ]
  },
  {
   "cell_type": "code",
   "execution_count": 22,
   "id": "5aeccdad",
   "metadata": {
    "_kg_hide-input": true,
    "_kg_hide-output": true,
    "execution": {
     "iopub.execute_input": "2024-03-14T20:47:28.995011Z",
     "iopub.status.busy": "2024-03-14T20:47:28.994752Z",
     "iopub.status.idle": "2024-03-14T20:47:28.999293Z",
     "shell.execute_reply": "2024-03-14T20:47:28.998484Z"
    },
    "papermill": {
     "duration": 0.019525,
     "end_time": "2024-03-14T20:47:29.001027",
     "exception": false,
     "start_time": "2024-03-14T20:47:28.981502",
     "status": "completed"
    },
    "tags": []
   },
   "outputs": [],
   "source": [
    "from sklearn.metrics import roc_auc_score, make_scorer\n",
    "\n",
    "def gini_score(y, y_pred):\n",
    "    auc = roc_auc_score(y, y_pred)\n",
    "    return 2 * auc - 1\n",
    "\n",
    "gini_scorer = make_scorer(gini_score, needs_proba=True)"
   ]
  },
  {
   "cell_type": "code",
   "execution_count": 23,
   "id": "3450de21",
   "metadata": {
    "_kg_hide-input": true,
    "_kg_hide-output": true,
    "execution": {
     "iopub.execute_input": "2024-03-14T20:47:29.027296Z",
     "iopub.status.busy": "2024-03-14T20:47:29.027030Z",
     "iopub.status.idle": "2024-03-14T20:47:29.033292Z",
     "shell.execute_reply": "2024-03-14T20:47:29.032481Z"
    },
    "papermill": {
     "duration": 0.021353,
     "end_time": "2024-03-14T20:47:29.035055",
     "exception": false,
     "start_time": "2024-03-14T20:47:29.013702",
     "status": "completed"
    },
    "tags": []
   },
   "outputs": [],
   "source": [
    "from sklearn.model_selection import GridSearchCV\n",
    "from sklearn.pipeline import Pipeline\n",
    "from sklearn.preprocessing import StandardScaler\n",
    "from sklearn.decomposition import PCA\n",
    "\n",
    "def finding_best_parameters(model,param_grid):\n",
    "    # Define a pipeline to search for the best combination of PCA truncation\n",
    "    # and classifier regularization.\n",
    "    pca = PCA()\n",
    "    # Define a Standard Scaler to normalize inputs\n",
    "    scaler = StandardScaler()\n",
    "\n",
    "    # set the tolerance to a large value to make the example faster\n",
    "    # pipe = Pipeline(steps=[(\"scaler\", scaler), (\"model\", model)])\n",
    "    pipe = Pipeline(steps=[(\"scaler\", scaler), (\"pca\", pca), (\"model\", model)])\n",
    "\n",
    "    # Parameters of pipelines can be set using '__' separated parameter names:\n",
    "\n",
    "    search = GridSearchCV(pipe, param_grid,scoring=\"roc_auc_ovr_weighted\",verbose=5) # gini_scorer\n",
    "    search.fit(X_train, y_train)\n",
    "    print(\"Best parameter (CV score=%0.3f):\" % search.best_score_)\n",
    "    print(search.best_params_)\n",
    "\n",
    "    return search.best_estimator_"
   ]
  },
  {
   "cell_type": "markdown",
   "id": "f43c6e93",
   "metadata": {
    "papermill": {
     "duration": 0.012272,
     "end_time": "2024-03-14T20:47:29.059752",
     "exception": false,
     "start_time": "2024-03-14T20:47:29.047480",
     "status": "completed"
    },
    "tags": []
   },
   "source": [
    "## Logistic Regression\n",
    "[Index](#Index)\n",
    "\n",
    "[`LogisticRegression`](https://scikit-learn.org/stable/modules/generated/sklearn.linear_model.LogisticRegression.html)"
   ]
  },
  {
   "cell_type": "code",
   "execution_count": 24,
   "id": "a806fd42",
   "metadata": {
    "_kg_hide-input": true,
    "_kg_hide-output": true,
    "execution": {
     "iopub.execute_input": "2024-03-14T20:47:29.085979Z",
     "iopub.status.busy": "2024-03-14T20:47:29.085721Z",
     "iopub.status.idle": "2024-03-14T20:47:29.090254Z",
     "shell.execute_reply": "2024-03-14T20:47:29.089459Z"
    },
    "papermill": {
     "duration": 0.019781,
     "end_time": "2024-03-14T20:47:29.092130",
     "exception": false,
     "start_time": "2024-03-14T20:47:29.072349",
     "status": "completed"
    },
    "tags": []
   },
   "outputs": [],
   "source": [
    "from sklearn.linear_model import LogisticRegression\n",
    "\n",
    "if find_best_model:\n",
    "    parameters = {\n",
    "         \"model__C\": [0.001, 0.01,1], # best: 0.01\n",
    "        \"model__penalty\":[\"l2\"]       # best: \"l2\"\n",
    "    }\n",
    "    model = LogisticRegression(max_iter=1000)\n",
    "    finding_best_parameters(model,parameters)"
   ]
  },
  {
   "cell_type": "markdown",
   "id": "5551ea7b",
   "metadata": {
    "papermill": {
     "duration": 0.012418,
     "end_time": "2024-03-14T20:47:29.117223",
     "exception": false,
     "start_time": "2024-03-14T20:47:29.104805",
     "status": "completed"
    },
    "tags": []
   },
   "source": [
    "## Random Forest Classifier\n",
    "[Index](#Index)\n",
    "\n",
    "[`RandomForestClassifier`](https://scikit-learn.org/stable/modules/generated/sklearn.ensemble.RandomForestClassifier.html)"
   ]
  },
  {
   "cell_type": "code",
   "execution_count": 25,
   "id": "20ff8481",
   "metadata": {
    "_kg_hide-input": true,
    "_kg_hide-output": true,
    "execution": {
     "iopub.execute_input": "2024-03-14T20:47:29.183451Z",
     "iopub.status.busy": "2024-03-14T20:47:29.182995Z",
     "iopub.status.idle": "2024-03-14T20:47:29.189077Z",
     "shell.execute_reply": "2024-03-14T20:47:29.188207Z"
    },
    "papermill": {
     "duration": 0.021738,
     "end_time": "2024-03-14T20:47:29.190987",
     "exception": false,
     "start_time": "2024-03-14T20:47:29.169249",
     "status": "completed"
    },
    "tags": []
   },
   "outputs": [],
   "source": [
    "from sklearn.ensemble import RandomForestClassifier\n",
    "\n",
    "if find_best_model:\n",
    "    parameters = {\n",
    "        'model__max_depth':[2,3,5,10],            # best: 10\n",
    "        'model__random_state':[0,10],             # best: 10\n",
    "        'model__n_estimators': [200,500]          # best: 500\n",
    "    }\n",
    "    model = RandomForestClassifier()\n",
    "    finding_best_parameters(model,parameters)"
   ]
  },
  {
   "cell_type": "markdown",
   "id": "83cb2065",
   "metadata": {
    "papermill": {
     "duration": 0.01243,
     "end_time": "2024-03-14T20:47:29.216336",
     "exception": false,
     "start_time": "2024-03-14T20:47:29.203906",
     "status": "completed"
    },
    "tags": []
   },
   "source": [
    "## Gradient Boosting Classifier\n",
    "[Index](#Index)\n",
    "\n",
    "[`GradientBoostingClassifier`](https://scikit-learn.org/stable/modules/generated/sklearn.ensemble.GradientBoostingClassifier.html)"
   ]
  },
  {
   "cell_type": "code",
   "execution_count": 26,
   "id": "df14ec13",
   "metadata": {
    "execution": {
     "iopub.execute_input": "2024-03-14T20:47:29.242482Z",
     "iopub.status.busy": "2024-03-14T20:47:29.242200Z",
     "iopub.status.idle": "2024-03-14T20:50:02.033800Z",
     "shell.execute_reply": "2024-03-14T20:50:02.032776Z"
    },
    "papermill": {
     "duration": 152.82004,
     "end_time": "2024-03-14T20:50:02.048813",
     "exception": false,
     "start_time": "2024-03-14T20:47:29.228773",
     "status": "completed"
    },
    "tags": []
   },
   "outputs": [
    {
     "name": "stdout",
     "output_type": "stream",
     "text": [
      "Fitting 5 folds for each of 1 candidates, totalling 5 fits\n",
      "[CV 1/5] END model__learning_rate=0.1, model__max_depth=3, model__n_estimators=300, model__random_state=42;, score=0.949 total time=  24.4s\n",
      "[CV 2/5] END model__learning_rate=0.1, model__max_depth=3, model__n_estimators=300, model__random_state=42;, score=0.946 total time=  24.7s\n",
      "[CV 3/5] END model__learning_rate=0.1, model__max_depth=3, model__n_estimators=300, model__random_state=42;, score=0.945 total time=  24.5s\n",
      "[CV 4/5] END model__learning_rate=0.1, model__max_depth=3, model__n_estimators=300, model__random_state=42;, score=0.947 total time=  24.1s\n",
      "[CV 5/5] END model__learning_rate=0.1, model__max_depth=3, model__n_estimators=300, model__random_state=42;, score=0.947 total time=  24.5s\n",
      "Best parameter (CV score=0.947):\n",
      "{'model__learning_rate': 0.1, 'model__max_depth': 3, 'model__n_estimators': 300, 'model__random_state': 42}\n"
     ]
    }
   ],
   "source": [
    "from sklearn.ensemble import GradientBoostingClassifier\n",
    "\n",
    "if find_best_model:\n",
    "    parameters = {\n",
    "        'model__n_estimators':[100,300],    # best: 300\n",
    "        'model__learning_rate':[0.001,0.1], # best: 0.1\n",
    "        'model__max_depth':[1,3],           # best: 3\n",
    "        'model__random_state':[0]           # best: 0\n",
    "    }\n",
    "    model = GradientBoostingClassifier()\n",
    "    finding_best_parameters(model,parameters)\n",
    "    \n",
    "    \n",
    "parameters = {\n",
    "    'model__n_estimators':[300],\n",
    "    'model__learning_rate':[0.1],\n",
    "    'model__max_depth':[3],\n",
    "    'model__random_state':[42] \n",
    "}\n",
    "    \n",
    "model = GradientBoostingClassifier()\n",
    "clf = finding_best_parameters(model,parameters)"
   ]
  },
  {
   "cell_type": "markdown",
   "id": "4061ef15",
   "metadata": {
    "_kg_hide-input": true,
    "_kg_hide-output": true,
    "papermill": {
     "duration": 0.013641,
     "end_time": "2024-03-14T20:50:02.076392",
     "exception": false,
     "start_time": "2024-03-14T20:50:02.062751",
     "status": "completed"
    },
    "tags": []
   },
   "source": [
    "# Submitting Results\n",
    "[Index](#Index)\n",
    "\n",
    "Finally, lets transform the `base_test_x.csv` file to dataframe and feed it into the selected model. After that, we store the expected result in the `output.csv` file."
   ]
  },
  {
   "cell_type": "code",
   "execution_count": 27,
   "id": "098ab8ab",
   "metadata": {
    "_kg_hide-input": true,
    "_kg_hide-output": true,
    "execution": {
     "iopub.execute_input": "2024-03-14T20:50:02.105377Z",
     "iopub.status.busy": "2024-03-14T20:50:02.105043Z",
     "iopub.status.idle": "2024-03-14T20:50:02.224116Z",
     "shell.execute_reply": "2024-03-14T20:50:02.223146Z"
    },
    "papermill": {
     "duration": 0.136297,
     "end_time": "2024-03-14T20:50:02.226398",
     "exception": false,
     "start_time": "2024-03-14T20:50:02.090101",
     "status": "completed"
    },
    "tags": []
   },
   "outputs": [
    {
     "data": {
      "text/html": [
       "<div>\n",
       "<style scoped>\n",
       "    .dataframe tbody tr th:only-of-type {\n",
       "        vertical-align: middle;\n",
       "    }\n",
       "\n",
       "    .dataframe tbody tr th {\n",
       "        vertical-align: top;\n",
       "    }\n",
       "\n",
       "    .dataframe thead th {\n",
       "        text-align: right;\n",
       "    }\n",
       "</style>\n",
       "<table border=\"1\" class=\"dataframe\">\n",
       "  <thead>\n",
       "    <tr style=\"text-align: right;\">\n",
       "      <th></th>\n",
       "      <th>CAMPANA</th>\n",
       "      <th>ESTADO_CIVIL_married</th>\n",
       "      <th>EDUCACION_university.degree</th>\n",
       "      <th>VIVIENDA_yes</th>\n",
       "      <th>INGRESO</th>\n",
       "      <th>TASA_VAR_EMP</th>\n",
       "    </tr>\n",
       "  </thead>\n",
       "  <tbody>\n",
       "    <tr>\n",
       "      <th>0</th>\n",
       "      <td>1</td>\n",
       "      <td>1.0</td>\n",
       "      <td>0.0</td>\n",
       "      <td>0.0</td>\n",
       "      <td>1419.000000</td>\n",
       "      <td>-0.1</td>\n",
       "    </tr>\n",
       "    <tr>\n",
       "      <th>1</th>\n",
       "      <td>1</td>\n",
       "      <td>0.0</td>\n",
       "      <td>0.0</td>\n",
       "      <td>1.0</td>\n",
       "      <td>1207.534814</td>\n",
       "      <td>1.4</td>\n",
       "    </tr>\n",
       "  </tbody>\n",
       "</table>\n",
       "</div>"
      ],
      "text/plain": [
       "   CAMPANA  ESTADO_CIVIL_married  EDUCACION_university.degree  VIVIENDA_yes  \\\n",
       "0        1                   1.0                          0.0           0.0   \n",
       "1        1                   0.0                          0.0           1.0   \n",
       "\n",
       "       INGRESO  TASA_VAR_EMP  \n",
       "0  1419.000000          -0.1  \n",
       "1  1207.534814           1.4  "
      ]
     },
     "execution_count": 27,
     "metadata": {},
     "output_type": "execute_result"
    }
   ],
   "source": [
    "test_df = pd.read_csv('/kaggle/input/arm-proceso-de-evaluacin-ds/base_test_x.csv')\n",
    "\n",
    "# Transforming and Cleaning the Data\n",
    "categorical_test_df = test_df.select_dtypes(include=['object'])\n",
    "numerical_test_df = test_df.select_dtypes(exclude=['object'])\n",
    "\n",
    "## Correcting Grammar Errors\n",
    "categorical_test_df[\"ESTADO_CIVIL\"] = categorical_test_df[\"ESTADO_CIVIL\"].apply(solve_grammar_issues)\n",
    "categorical_test_df[\"EDUCACION\"] = categorical_test_df[\"EDUCACION\"].apply(solve_grammar_issues)\n",
    "\n",
    "## Transforming Categorical Data\n",
    "categorical_test_df = transform_categorical_values(categorical_test_df)\n",
    "converted_test_df = join_dataframes(numerical_test_df, categorical_test_df)\n",
    "\n",
    "## Select Relevant Features\n",
    "converted_test_df = converted_test_df[[\n",
    "    \"CAMPANA\",\n",
    "    \"ESTADO_CIVIL_married\",\n",
    "    \"EDUCACION_university.degree\",\n",
    "    \"VIVIENDA_yes\",\n",
    "    \"INGRESO\",\n",
    "    \"TASA_VAR_EMP\"\n",
    "]]\n",
    "\n",
    "converted_test_df.head(2)"
   ]
  },
  {
   "cell_type": "code",
   "execution_count": 28,
   "id": "019b2e09",
   "metadata": {
    "_kg_hide-input": true,
    "_kg_hide-output": true,
    "execution": {
     "iopub.execute_input": "2024-03-14T20:50:02.256041Z",
     "iopub.status.busy": "2024-03-14T20:50:02.255734Z",
     "iopub.status.idle": "2024-03-14T20:50:02.358165Z",
     "shell.execute_reply": "2024-03-14T20:50:02.357335Z"
    },
    "papermill": {
     "duration": 0.118968,
     "end_time": "2024-03-14T20:50:02.360244",
     "exception": false,
     "start_time": "2024-03-14T20:50:02.241276",
     "status": "completed"
    },
    "tags": []
   },
   "outputs": [
    {
     "data": {
      "text/html": [
       "<div>\n",
       "<style scoped>\n",
       "    .dataframe tbody tr th:only-of-type {\n",
       "        vertical-align: middle;\n",
       "    }\n",
       "\n",
       "    .dataframe tbody tr th {\n",
       "        vertical-align: top;\n",
       "    }\n",
       "\n",
       "    .dataframe thead th {\n",
       "        text-align: right;\n",
       "    }\n",
       "</style>\n",
       "<table border=\"1\" class=\"dataframe\">\n",
       "  <thead>\n",
       "    <tr style=\"text-align: right;\">\n",
       "      <th></th>\n",
       "      <th>ID</th>\n",
       "      <th>ACEPTACION</th>\n",
       "    </tr>\n",
       "  </thead>\n",
       "  <tbody>\n",
       "    <tr>\n",
       "      <th>0</th>\n",
       "      <td>24001</td>\n",
       "      <td>0.382257</td>\n",
       "    </tr>\n",
       "    <tr>\n",
       "      <th>1</th>\n",
       "      <td>18923</td>\n",
       "      <td>0.083007</td>\n",
       "    </tr>\n",
       "  </tbody>\n",
       "</table>\n",
       "</div>"
      ],
      "text/plain": [
       "      ID  ACEPTACION\n",
       "0  24001    0.382257\n",
       "1  18923    0.083007"
      ]
     },
     "execution_count": 28,
     "metadata": {},
     "output_type": "execute_result"
    }
   ],
   "source": [
    "test_df[\"ACEPTACION\"] = pd.Series([i[1] for i in clf.predict_proba(converted_test_df)])\n",
    "test_df[[\"ID\",\"ACEPTACION\"]].to_csv('output.csv', index=False)\n",
    "test_df[[\"ID\",\"ACEPTACION\"]].head(2)"
   ]
  }
 ],
 "metadata": {
  "kaggle": {
   "accelerator": "nvidiaTeslaT4",
   "dataSources": [
    {
     "databundleVersionId": 3221792,
     "sourceId": 34418,
     "sourceType": "competition"
    }
   ],
   "dockerImageVersionId": 30646,
   "isGpuEnabled": true,
   "isInternetEnabled": true,
   "language": "python",
   "sourceType": "notebook"
  },
  "kernelspec": {
   "display_name": "Python 3",
   "language": "python",
   "name": "python3"
  },
  "language_info": {
   "codemirror_mode": {
    "name": "ipython",
    "version": 3
   },
   "file_extension": ".py",
   "mimetype": "text/x-python",
   "name": "python",
   "nbconvert_exporter": "python",
   "pygments_lexer": "ipython3",
   "version": "3.10.13"
  },
  "papermill": {
   "default_parameters": {},
   "duration": 168.805028,
   "end_time": "2024-03-14T20:50:02.992690",
   "environment_variables": {},
   "exception": null,
   "input_path": "__notebook__.ipynb",
   "output_path": "__notebook__.ipynb",
   "parameters": {},
   "start_time": "2024-03-14T20:47:14.187662",
   "version": "2.5.0"
  }
 },
 "nbformat": 4,
 "nbformat_minor": 5
}
